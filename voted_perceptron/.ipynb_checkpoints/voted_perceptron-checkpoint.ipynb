{
 "cells": [
  {
   "cell_type": "code",
   "execution_count": 105,
   "metadata": {
    "collapsed": true
   },
   "outputs": [],
   "source": [
    "import numpy as np\n",
    "import math"
   ]
  },
  {
   "cell_type": "code",
   "execution_count": 106,
   "metadata": {
    "collapsed": true
   },
   "outputs": [],
   "source": [
    "Xtrain_file = '../data/Xtrain.csv'\n",
    "Ytrain_file = '../data/Ytrain.csv'\n",
    "\n",
    "# load training files \n",
    "X_train = np.genfromtxt(Xtrain_file, delimiter=',').astype(int)\n",
    "Y_train = np.genfromtxt(Ytrain_file, delimiter=',').astype(int)\n",
    "\n",
    "\n",
    "# create 90-10 split for testing\n",
    "X_test = X_train[-50:]\n",
    "Y_test = Y_train[-50:]\n",
    "\n",
    "X_train = X_train[:450]\n",
    "Y_train = Y_train[:450]"
   ]
  },
  {
   "cell_type": "markdown",
   "metadata": {},
   "source": [
    "### Training Voted Perceptron"
   ]
  },
  {
   "cell_type": "code",
   "execution_count": 246,
   "metadata": {
    "collapsed": false
   },
   "outputs": [],
   "source": [
    "Y_train[Y_train == 0] = -1\n",
    "Y_train[Y_train == 1] = 1\n",
    "\n",
    "Y_test[Y_test == 0] = -1\n",
    "Y_test[Y_test == 1] = 1"
   ]
  },
  {
   "cell_type": "code",
   "execution_count": 322,
   "metadata": {
    "collapsed": true
   },
   "outputs": [],
   "source": [
    "# Init variables\n",
    "c = np.zeros(1)\n",
    "w = np.zeros((1, len(X_train[0])))"
   ]
  },
  {
   "cell_type": "code",
   "execution_count": 323,
   "metadata": {
    "collapsed": false
   },
   "outputs": [],
   "source": [
    "# PAPER IMPLEMENTATION\n",
    "e = 10\n",
    "y_hat = 0\n",
    "t = 0\n",
    "k = 0\n",
    "\n",
    "\n",
    "for _ in range(e):\n",
    "    for idx, (x, y) in enumerate(zip(X_train, Y_train)):\n",
    "        y_hat = int(np.sign(np.dot(w[k], x)))\n",
    "        \n",
    "        if y_hat == y:\n",
    "            c[k] += 1\n",
    "        else:\n",
    "            w = np.append(w, [w[k] + y*x], axis=0) \n",
    "            c = np.append(c, [1])\n",
    "            k += 1\n",
    "        "
   ]
  },
  {
   "cell_type": "markdown",
   "metadata": {},
   "source": [
    "### Voted Perceptron Prediction "
   ]
  },
  {
   "cell_type": "code",
   "execution_count": 324,
   "metadata": {
    "collapsed": false
   },
   "outputs": [],
   "source": [
    "# x_test = X_test[0]\n",
    "y_hat = 0\n",
    "\n",
    "y_pred = []\n",
    "\n",
    "\n",
    "for x_test, l in zip(X_test, Y_test):\n",
    "    for i in range(len(c)):\n",
    "        y_hat += c[i] * int(np.sign(np.dot(w[i], x_test)))\n",
    "    \n",
    "    y_pred.append(int(np.sign(y_hat)))\n",
    "    y_hat = 0"
   ]
  },
  {
   "cell_type": "code",
   "execution_count": 325,
   "metadata": {
    "collapsed": false
   },
   "outputs": [
    {
     "data": {
      "text/plain": [
       "1.0"
      ]
     },
     "execution_count": 325,
     "metadata": {},
     "output_type": "execute_result"
    }
   ],
   "source": [
    "from sklearn.metrics import accuracy_score\n",
    "\n",
    "accuracy_score(Y_test, y_pred)"
   ]
  },
  {
   "cell_type": "markdown",
   "metadata": {},
   "source": [
    "### Naive Bayes Training"
   ]
  },
  {
   "cell_type": "code",
   "execution_count": null,
   "metadata": {
    "collapsed": true
   },
   "outputs": [],
   "source": [
    "# train set size\n",
    "train_size = float(len(Y_train))\n",
    "\n",
    "# number of instances per class\n",
    "class_0, class_1 = np.bincount(Y_train)\n",
    "\n",
    "# log priors \n",
    "log_class_0_prior = math.log(class_0 / train_size)\n",
    "log_class_1_prior = math.log(class_1 / train_size)\n",
    "\n",
    "# total vocabulary\n",
    "V = len(X_train[0])\n",
    "\n",
    "# total tokens in each class (scalar)\n",
    "class_0_wtot = 0 + V*0.5 # add one-smoothing\n",
    "class_1_wtot = 0 + V*0.5 # add one-smoothing\n",
    "\n",
    "# total per token in each class (vector)\n",
    "class_0_vectot = np.full(len(X_train[0]), 0.5) # ones == add one-smoothing\n",
    "class_1_vectot = np.full(len(X_train[0]), 0.5)\n",
    "\n",
    "loglike_0_vec = np.zeros(len(X_train[0]), dtype=np.int)\n",
    "loglike_1_vec = np.zeros(len(X_train[0]), dtype=np.int)\n",
    "\n",
    "# sum of the total tokens\n",
    "for x, y in zip(X_train, Y_train):        \n",
    "    if y == 0:\n",
    "        class_0_wtot += np.sum(x)\n",
    "        class_0_vectot += x\n",
    "    else: \n",
    "        class_1_wtot += np.sum(x)\n",
    "        class_1_vectot += x\n",
    "\n",
    "for i in range(V):\n",
    "    loglike_0_vec[i] = math.log(class_0_vectot[i]/float(class_0_wtot))\n",
    "    loglike_1_vec[i] = math.log(class_1_vectot[i]/float(class_1_wtot))"
   ]
  },
  {
   "cell_type": "markdown",
   "metadata": {},
   "source": [
    "### Naive Bayes Prediction"
   ]
  },
  {
   "cell_type": "code",
   "execution_count": null,
   "metadata": {
    "collapsed": true
   },
   "outputs": [],
   "source": [
    "# prediction\n",
    "\n",
    "sum_0 = log_class_0_prior\n",
    "sum_1 = log_class_1_prior\n",
    "\n",
    "for i, x in enumerate(X_test):\n",
    "    for idx, val in enumerate(x):\n",
    "        if val != 0:\n",
    "            sum_0 += (loglike_0_vec[idx]*val)\n",
    "            sum_1 += (loglike_1_vec[idx]*val)\n",
    "        \n",
    "        \n",
    "    print(np.argmax([sum_0, sum_1]))\n",
    "    print(Y_test[i])\n",
    "    print(\"\\n\")\n",
    "    sum_0 = log_class_0_prior\n",
    "    sum_1 = log_class_1_prior"
   ]
  }
 ],
 "metadata": {
  "anaconda-cloud": {},
  "kernelspec": {
   "display_name": "Python [conda root]",
   "language": "python",
   "name": "conda-root-py"
  },
  "language_info": {
   "codemirror_mode": {
    "name": "ipython",
    "version": 2
   },
   "file_extension": ".py",
   "mimetype": "text/x-python",
   "name": "python",
   "nbconvert_exporter": "python",
   "pygments_lexer": "ipython2",
   "version": "2.7.13"
  }
 },
 "nbformat": 4,
 "nbformat_minor": 2
}
