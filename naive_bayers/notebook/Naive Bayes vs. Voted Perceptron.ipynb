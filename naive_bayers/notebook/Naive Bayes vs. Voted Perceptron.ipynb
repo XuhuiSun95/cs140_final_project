{
 "cells": [
  {
   "cell_type": "code",
   "execution_count": 71,
   "metadata": {
    "collapsed": false
   },
   "outputs": [],
   "source": [
    "import numpy as np\n",
    "import math\n",
    "import matplotlib.pyplot as plt\n",
    "\n",
    "%matplotlib inline  "
   ]
  },
  {
   "cell_type": "code",
   "execution_count": 65,
   "metadata": {
    "collapsed": true
   },
   "outputs": [],
   "source": [
    "Xtrain_file = 'data/Xtrain.csv'\n",
    "Ytrain_file = 'data/Ytrain.csv'\n",
    "\n",
    "# load training files \n",
    "X_train = np.genfromtxt(Xtrain_file, delimiter=',').astype(int)\n",
    "Y_train = np.genfromtxt(Ytrain_file, delimiter=',').astype(int)\n",
    "\n",
    "\n",
    "# create 90-10 split for testing\n",
    "X_test = X_train[-50:]\n",
    "Y_test = Y_train[-50:]\n",
    "\n",
    "X_train = X_train[:5]\n",
    "Y_train = Y_train[:5]"
   ]
  },
  {
   "cell_type": "code",
   "execution_count": 66,
   "metadata": {
    "collapsed": true
   },
   "outputs": [],
   "source": [
    "# Naive Bayes\n",
    "model = NB_Classifier()\n",
    "model.fit(X_train, Y_train)\n",
    "nb_results = model.predict(X_test)"
   ]
  },
  {
   "cell_type": "code",
   "execution_count": 67,
   "metadata": {
    "collapsed": false
   },
   "outputs": [
    {
     "name": "stdout",
     "output_type": "stream",
     "text": [
      "0.78\n"
     ]
    }
   ],
   "source": [
    "print(accuracy_score(nb_results, Y_test))"
   ]
  },
  {
   "cell_type": "code",
   "execution_count": 68,
   "metadata": {
    "collapsed": false
   },
   "outputs": [],
   "source": [
    "# Voted Perceptron @ 10 epochs\n",
    "Y_trainVP = Y_train[:]\n",
    "Y_trainVP[Y_trainVP == 0] = -1\n",
    "\n",
    "model = VP_Classifier()\n",
    "model.fit(X_train, Y_trainVP)\n",
    "vp_results = model.predict(X_test)"
   ]
  },
  {
   "cell_type": "code",
   "execution_count": 69,
   "metadata": {
    "collapsed": false
   },
   "outputs": [
    {
     "name": "stdout",
     "output_type": "stream",
     "text": [
      "0.76\n",
      "0.78\n"
     ]
    }
   ],
   "source": [
    "from sklearn.metrics import accuracy_score\n",
    "\n",
    "print(accuracy_score(vp_results, Y_test))\n",
    "print(accuracy_score(nb_results, Y_test))\n",
    "\n",
    "## % 90\n",
    "# VP = 1.0\n",
    "# NB = 1.0\n",
    "## %20\n",
    "# VP = .94\n",
    "# NB = .78\n",
    "## %10\n",
    "# VP = .92\n",
    "# NB = .96\n",
    "## %5\n",
    "# VP = .94\n",
    "# NB = .80\n",
    "## %2\n",
    "# VP = .82\n",
    "# NB = .78\n",
    "## %1\n",
    "# VP = .76\n",
    "# NB = .78"
   ]
  },
  {
   "cell_type": "code",
   "execution_count": 77,
   "metadata": {
    "collapsed": false
   },
   "outputs": [
    {
     "name": "stderr",
     "output_type": "stream",
     "text": [
      "/Users/abhishekbhattacharya/anaconda/lib/python2.7/site-packages/matplotlib/legend.py:633: UserWarning: Legend does not support [<matplotlib.lines.Line2D object at 0x112cb5890>] instances.\n",
      "A proxy artist may be used instead.\n",
      "See: http://matplotlib.org/users/legend_guide.html#using-proxy-artist\n",
      "  \"#using-proxy-artist\".format(orig_handle)\n",
      "/Users/abhishekbhattacharya/anaconda/lib/python2.7/site-packages/matplotlib/legend.py:633: UserWarning: Legend does not support [<matplotlib.lines.Line2D object at 0x112a04190>] instances.\n",
      "A proxy artist may be used instead.\n",
      "See: http://matplotlib.org/users/legend_guide.html#using-proxy-artist\n",
      "  \"#using-proxy-artist\".format(orig_handle)\n"
     ]
    },
    {
     "data": {
      "image/png": "[encoded data removed]",
      "text/plain": [
       "<matplotlib.figure.Figure at 0x112a04c50>"
      ]
     },
     "metadata": {},
     "output_type": "display_data"
    }
   ],
   "source": [
    "vp_acc = [.76, .82, .94, .92, .94, 1.0]\n",
    "nb_acc = [.78, .78, .80, .82, .82, 1.0]\n",
    "frac = [.01*450, .02*450, .05*450, .10*450, .20*450, 450]\n",
    "\n",
    "\n",
    "\n",
    "vp = plt.plot(frac, vp_acc, label='Voted Perceptron')\n",
    "nb = plt.plot(frac, nb_acc,label='Naive Bayes')\n",
    "plt.legend([vp, nb], ['Voted Perceptron', 'Naive Bayes'])\n",
    "\n",
    "\n",
    "# plt.plot(frac, vp_acc, frac, nb_acc)\n",
    "plt.xlabel(\"Fraction of Training\")\n",
    "plt.ylabel('Accuracy')\n",
    "plt.show()"
   ]
  },
  {
   "cell_type": "code",
   "execution_count": 5,
   "metadata": {
    "collapsed": true
   },
   "outputs": [],
   "source": [
    "class NB_Classifier:\n",
    "    \"\"\" Simple Naive Bayes Classifier \"\"\"\n",
    "\n",
    "    def fit(self, X, y):\n",
    "        \"\"\" Train NB classifier  \"\"\"\n",
    "        # train set size\n",
    "        self.train_size = float(len(y))\n",
    "\n",
    "        # number of instances per class\n",
    "        self.class_0, self.class_1 = np.bincount(y)\n",
    "\n",
    "        # log priors\n",
    "        self.log_class_0_prior = math.log(self.class_0 / self.train_size)\n",
    "        self.log_class_1_prior = math.log(self.class_1 / self.train_size)\n",
    "\n",
    "        # total vocabulary\n",
    "        self.V = len(X[0])\n",
    "\n",
    "        # total tokens in each class (scalar)\n",
    "        self.class_0_wtot = 0 + self.V*0.5 # add one-smoothing of 0.5\n",
    "        self.class_1_wtot = 0 + self.V*0.5 # add one-smoothing\n",
    "\n",
    "        # total per token in each class (vector)\n",
    "        self.class_0_vectot = np.full(len(X[0]), 0.5) # ones == add one-smoothing\n",
    "        self.class_1_vectot = np.full(len(X[0]), 0.5)\n",
    "\n",
    "        self.loglike_0_vec = np.zeros(len(X[0]), dtype=np.int)\n",
    "        self.loglike_1_vec = np.zeros(len(X[0]), dtype=np.int)\n",
    "\n",
    "        # sum of the total tokens\n",
    "        for x, y in zip(X, y):\n",
    "            if y == 0:\n",
    "                self.class_0_wtot += np.sum(x)\n",
    "                self.class_0_vectot += x\n",
    "            else:\n",
    "                self.class_1_wtot += np.sum(x)\n",
    "                self.class_1_vectot += x\n",
    "\n",
    "        for i in range(self.V):\n",
    "            self.loglike_0_vec[i] = math.log(self.class_0_vectot[i]/float(self.class_0_wtot))\n",
    "            self.loglike_1_vec[i] = math.log(self.class_1_vectot[i]/float(self.class_1_wtot))\n",
    "\n",
    "    def predict(self, X):\n",
    "        \"\"\" Takes vector of samples and returns predictions \"\"\"\n",
    "        preds = []\n",
    "        sum_0 = self.log_class_0_prior\n",
    "        sum_1 = self.log_class_1_prior\n",
    "\n",
    "        for i, x in enumerate(X):\n",
    "            for idx, val in enumerate(x):\n",
    "                if val != 0:\n",
    "                    sum_0 += (self.loglike_0_vec[idx]*val)\n",
    "                    sum_1 += (self.loglike_1_vec[idx]*val)\n",
    "\n",
    "\n",
    "            preds.append(np.argmax([sum_0, sum_1]))\n",
    "            sum_0 = self.log_class_0_prior\n",
    "            sum_1 = self.log_class_1_prior\n",
    "\n",
    "        return preds\n",
    "\n",
    "\n",
    "class VP_Classifier:\n",
    "    \"\"\" Voted Perceptron Classifier \"\"\"\n",
    "\n",
    "    def fit(self, X, labels):\n",
    "        \"\"\" Train Voted Perceptron  \"\"\"\n",
    "        # Init variables\n",
    "        self.c = np.zeros(1)\n",
    "        self.w = np.zeros((1, len(X[0])))\n",
    "\n",
    "        e = 10 # epochs\n",
    "        y_hat = 0\n",
    "        k = 0\n",
    "\n",
    "        for _ in range(e):\n",
    "            for idx, (x, y) in enumerate(zip(X, labels)):\n",
    "                y_hat = int(np.sign(np.dot(self.w[k], x)))\n",
    "\n",
    "                if y_hat == y:\n",
    "                    self.c[k] += 1\n",
    "                else:\n",
    "                    self.w = np.append(self.w, [self.w[k] + y*x], axis=0)\n",
    "                    self.c = np.append(self.c, [1])\n",
    "                    k += 1\n",
    "\n",
    "\n",
    "    def predict(self, X):\n",
    "        \"\"\" Takes vector of samples and returns predictions \"\"\"\n",
    "        preds = []\n",
    "        y_hat = 0\n",
    "\n",
    "        for x_test in X:\n",
    "            for i in range(len(self.c)):\n",
    "                y_hat += self.c[i] * np.sign(np.dot(self.w[i], x_test))\n",
    "\n",
    "            if int(np.sign(y_hat)) == -1:\n",
    "                preds.append(0)\n",
    "            else:\n",
    "                preds.append(1)\n",
    "            y_hat = 0\n",
    "\n",
    "        return preds"
   ]
  },
  {
   "cell_type": "code",
   "execution_count": null,
   "metadata": {
    "collapsed": true
   },
   "outputs": [],
   "source": []
  }
 ],
 "metadata": {
  "anaconda-cloud": {},
  "kernelspec": {
   "display_name": "Python [conda root]",
   "language": "python",
   "name": "conda-root-py"
  },
  "language_info": {
   "codemirror_mode": {
    "name": "ipython",
    "version": 2
   },
   "file_extension": ".py",
   "mimetype": "text/x-python",
   "name": "python",
   "nbconvert_exporter": "python",
   "pygments_lexer": "ipython2",
   "version": "2.7.13"
  }
 },
 "nbformat": 4,
 "nbformat_minor": 2
}
