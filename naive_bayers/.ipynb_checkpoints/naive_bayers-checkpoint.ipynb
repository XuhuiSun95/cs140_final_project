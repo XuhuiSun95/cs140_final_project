{
 "cells": [
  {
   "cell_type": "code",
   "execution_count": 31,
   "metadata": {
    "collapsed": true
   },
   "outputs": [],
   "source": [
    "import numpy as np\n",
    "import math"
   ]
  },
  {
   "cell_type": "code",
   "execution_count": 32,
   "metadata": {
    "collapsed": false
   },
   "outputs": [],
   "source": [
    "Xtrain_file = '../data/Xtrain.csv'\n",
    "Ytrain_file = '../data/Ytrain.csv'\n",
    "\n",
    "# load training files \n",
    "X_train = np.genfromtxt(Xtrain_file, delimiter=',').astype(int)\n",
    "Y_train = np.genfromtxt(Ytrain_file, delimiter=',').astype(int)"
   ]
  },
  {
   "cell_type": "code",
   "execution_count": 33,
   "metadata": {
    "collapsed": false
   },
   "outputs": [],
   "source": [
    "# create 90-10 split for testing\n",
    "X_test = X_train[-50:]\n",
    "Y_test = Y_train[-50:]\n",
    "\n",
    "X_train = X_train[:450]\n",
    "Y_train = Y_train[:450]"
   ]
  },
  {
   "cell_type": "markdown",
   "metadata": {},
   "source": [
    "### Training Naive Bayes"
   ]
  },
  {
   "cell_type": "code",
   "execution_count": 34,
   "metadata": {
    "collapsed": false
   },
   "outputs": [],
   "source": [
    "# train set size\n",
    "train_size = float(len(Y_train))\n",
    "\n",
    "# number of instances per class\n",
    "class_0, class_1 = np.bincount(Y_train)\n",
    "\n",
    "# log priors \n",
    "log_class_0_prior = math.log(class_0 / train_size)\n",
    "log_class_1_prior = math.log(class_1 / train_size)\n",
    "\n",
    "# total vocabulary\n",
    "V = len(X_train[0])\n",
    "\n",
    "# total tokens in each class (scalar)\n",
    "class_0_wtot = 0 + V*1 # add one-smoothing\n",
    "class_1_wtot = 0 + V*1 # add one-smoothing\n",
    "\n",
    "# total per token in each class (vector)\n",
    "class_0_vectot = np.ones(len(X_train[0]), dtype=np.int) # ones == add one-smoothing\n",
    "class_1_vectot = np.ones(len(X_train[0]), dtype=np.int)\n",
    "\n",
    "loglike_0_vec = np.zeros(len(X_train[0]), dtype=np.int)\n",
    "loglike_1_vec = np.zeros(len(X_train[0]), dtype=np.int)\n",
    "\n",
    "# sum of the total tokens\n",
    "for x, y in zip(X_train, Y_train):        \n",
    "    if y == 0:\n",
    "        class_0_wtot += np.sum(x)\n",
    "        class_0_vectot += x\n",
    "    else: \n",
    "        class_1_wtot += np.sum(x)\n",
    "        class_1_vectot += x\n",
    "\n",
    "for i in range(V):\n",
    "    loglike_0_vec[i] = math.log(class_0_vectot[i]/float(class_0_wtot))\n",
    "    loglike_1_vec[i] = math.log(class_1_vectot[i]/float(class_1_wtot))"
   ]
  },
  {
   "cell_type": "markdown",
   "metadata": {},
   "source": [
    "### Testing Naive Bayes "
   ]
  },
  {
   "cell_type": "code",
   "execution_count": 39,
   "metadata": {
    "collapsed": false
   },
   "outputs": [
    {
     "name": "stdout",
     "output_type": "stream",
     "text": [
      "0\n",
      "0\n",
      "\n",
      "\n",
      "0\n",
      "0\n",
      "\n",
      "\n",
      "0\n",
      "1\n",
      "\n",
      "\n",
      "0\n",
      "0\n",
      "\n",
      "\n",
      "0\n",
      "0\n",
      "\n",
      "\n",
      "0\n",
      "0\n",
      "\n",
      "\n",
      "0\n",
      "0\n",
      "\n",
      "\n",
      "0\n",
      "1\n",
      "\n",
      "\n",
      "0\n",
      "0\n",
      "\n",
      "\n",
      "0\n",
      "0\n",
      "\n",
      "\n",
      "0\n",
      "1\n",
      "\n",
      "\n",
      "0\n",
      "0\n",
      "\n",
      "\n",
      "0\n",
      "1\n",
      "\n",
      "\n",
      "0\n",
      "0\n",
      "\n",
      "\n",
      "0\n",
      "0\n",
      "\n",
      "\n",
      "0\n",
      "0\n",
      "\n",
      "\n",
      "0\n",
      "0\n",
      "\n",
      "\n",
      "0\n",
      "1\n",
      "\n",
      "\n",
      "0\n",
      "0\n",
      "\n",
      "\n",
      "0\n",
      "0\n",
      "\n",
      "\n",
      "0\n",
      "0\n",
      "\n",
      "\n",
      "0\n",
      "0\n",
      "\n",
      "\n",
      "0\n",
      "0\n",
      "\n",
      "\n",
      "0\n",
      "0\n",
      "\n",
      "\n",
      "0\n",
      "0\n",
      "\n",
      "\n",
      "0\n",
      "0\n",
      "\n",
      "\n",
      "0\n",
      "1\n",
      "\n",
      "\n",
      "0\n",
      "0\n",
      "\n",
      "\n",
      "0\n",
      "0\n",
      "\n",
      "\n",
      "0\n",
      "0\n",
      "\n",
      "\n",
      "0\n",
      "0\n",
      "\n",
      "\n",
      "0\n",
      "0\n",
      "\n",
      "\n",
      "0\n",
      "0\n",
      "\n",
      "\n",
      "0\n",
      "0\n",
      "\n",
      "\n",
      "0\n",
      "0\n",
      "\n",
      "\n",
      "0\n",
      "0\n",
      "\n",
      "\n",
      "0\n",
      "0\n",
      "\n",
      "\n",
      "0\n",
      "1\n",
      "\n",
      "\n",
      "0\n",
      "0\n",
      "\n",
      "\n",
      "0\n",
      "0\n",
      "\n",
      "\n",
      "0\n",
      "1\n",
      "\n",
      "\n",
      "0\n",
      "0\n",
      "\n",
      "\n",
      "0\n",
      "1\n",
      "\n",
      "\n",
      "0\n",
      "0\n",
      "\n",
      "\n",
      "0\n",
      "0\n",
      "\n",
      "\n",
      "0\n",
      "0\n",
      "\n",
      "\n",
      "0\n",
      "1\n",
      "\n",
      "\n",
      "0\n",
      "1\n",
      "\n",
      "\n",
      "0\n",
      "0\n",
      "\n",
      "\n",
      "0\n",
      "0\n",
      "\n",
      "\n"
     ]
    }
   ],
   "source": [
    "# prediction\n",
    "\n",
    "sum_0 = log_class_0_prior\n",
    "sum_1 = log_class_1_prior\n",
    "\n",
    "for i, x in enumerate(X_test):\n",
    "    for idx, val in enumerate(x):\n",
    "        if val != 0:\n",
    "            sum_0 += (loglike_0_vec[i]*val)\n",
    "            sum_1 += (loglike_1_vec[i]*val)\n",
    "        \n",
    "        \n",
    "#     print(sum_0)\n",
    "#     print(sum_1)\n",
    "    print(np.argmax([sum_0, sum_1]))\n",
    "    print(Y_test[i])\n",
    "    print(\"\\n\")"
   ]
  },
  {
   "cell_type": "markdown",
   "metadata": {},
   "source": [
    "### Misc Code"
   ]
  },
  {
   "cell_type": "code",
   "execution_count": 9,
   "metadata": {
    "collapsed": false
   },
   "outputs": [],
   "source": [
    "# train set size\n",
    "train_size = len(Y_train)\n",
    "\n",
    "# number of instances per class\n",
    "class_0, class_1 = np.bincount(Y_train)\n",
    "\n",
    "class_0_prior = class_0 / train_size\n",
    "class_1_prior = class_1 / train_size\n",
    "\n",
    "# total tokens in each class (scalar)\n",
    "class_0_wtot = 0 \n",
    "class_1_wtot = 0\n",
    "\n",
    "\n",
    "# total per token in each class (vector)\n",
    "class_0_vectot = np.zeros(len(X_train[0]), dtype=np.int)\n",
    "class_1_vectot = np.zeros(len(X_train[0]), dtype=np.int)\n",
    "\n",
    "# sum of the total tokens\n",
    "for x, y in zip(X_train, Y_train):        \n",
    "    if y == 0:\n",
    "        class_0_wtot += np.sum(x)\n",
    "        class_0_vectot += x\n",
    "    else: \n",
    "        class_1_wtot += np.sum(x)\n",
    "        class_1_vectot += x\n",
    "        \n",
    "class_vectot = class_1_vectot + class_0_vectot"
   ]
  },
  {
   "cell_type": "code",
   "execution_count": 8,
   "metadata": {
    "collapsed": false
   },
   "outputs": [
    {
     "ename": "ValueError",
     "evalue": "math domain error",
     "output_type": "error",
     "traceback": [
      "\u001b[0;31m---------------------------------------------------------------------------\u001b[0m",
      "\u001b[0;31mValueError\u001b[0m                                Traceback (most recent call last)",
      "\u001b[0;32m<ipython-input-8-31531976c361>\u001b[0m in \u001b[0;36m<module>\u001b[0;34m()\u001b[0m\n\u001b[1;32m     17\u001b[0m             \u001b[0mlog_prob_1\u001b[0m \u001b[0;34m+=\u001b[0m \u001b[0mmath\u001b[0m\u001b[0;34m.\u001b[0m\u001b[0mlog\u001b[0m\u001b[0;34m(\u001b[0m\u001b[0;34m(\u001b[0m\u001b[0mval\u001b[0m\u001b[0;34m+\u001b[0m\u001b[0;36m1\u001b[0m\u001b[0;34m)\u001b[0m \u001b[0;34m*\u001b[0m \u001b[0mp_w_given_1\u001b[0m \u001b[0;34m/\u001b[0m \u001b[0mp_word\u001b[0m\u001b[0;34m)\u001b[0m\u001b[0;34m\u001b[0m\u001b[0m\n\u001b[1;32m     18\u001b[0m \u001b[0;34m\u001b[0m\u001b[0m\n\u001b[0;32m---> 19\u001b[0;31m     \u001b[0mscore_0\u001b[0m \u001b[0;34m=\u001b[0m \u001b[0mlog_prob_0\u001b[0m \u001b[0;34m+\u001b[0m \u001b[0mmath\u001b[0m\u001b[0;34m.\u001b[0m\u001b[0mlog\u001b[0m\u001b[0;34m(\u001b[0m\u001b[0mclass_0_prior\u001b[0m\u001b[0;34m)\u001b[0m\u001b[0;34m\u001b[0m\u001b[0m\n\u001b[0m\u001b[1;32m     20\u001b[0m     \u001b[0mscore_1\u001b[0m \u001b[0;34m=\u001b[0m \u001b[0mlog_prob_1\u001b[0m \u001b[0;34m+\u001b[0m \u001b[0mmath\u001b[0m\u001b[0;34m.\u001b[0m\u001b[0mlog\u001b[0m\u001b[0;34m(\u001b[0m\u001b[0mclass_1_prior\u001b[0m\u001b[0;34m)\u001b[0m\u001b[0;34m\u001b[0m\u001b[0m\n\u001b[1;32m     21\u001b[0m     \u001b[0;32mprint\u001b[0m\u001b[0;34m(\u001b[0m\u001b[0mscore_0\u001b[0m\u001b[0;34m)\u001b[0m\u001b[0;34m\u001b[0m\u001b[0m\n",
      "\u001b[0;31mValueError\u001b[0m: math domain error"
     ]
    }
   ],
   "source": [
    "# prediction\n",
    "log_prob_0 = 0.0\n",
    "log_prob_1 = 0.0\n",
    "for idx1, x in enumerate(X_test):\n",
    "    for idx, val in enumerate(x):\n",
    "\n",
    "        p_word = float(class_vectot[idx] + 1) / (class_0_wtot + class_1_wtot + 1)\n",
    "\n",
    "        p_w_given_0 = float(class_0_vectot[idx] + 1) / float(class_0_wtot  + 1)\n",
    "        p_w_given_1 = float(class_1_vectot[idx] + 1) / float(class_1_wtot + 1)\n",
    "\n",
    "    #     print(math.log(p_w_given_0))\n",
    "        if p_w_given_0 > 0:\n",
    "            log_prob_0 += math.log((val+1) * p_w_given_0 / p_word)\n",
    "\n",
    "        if p_w_given_1 > 0:\n",
    "            log_prob_1 += math.log((val+1) * p_w_given_1 / p_word)\n",
    "\n",
    "    score_0 = log_prob_0 + math.log(class_0_prior)\n",
    "    score_1 = log_prob_1 + math.log(class_1_prior)\n",
    "    print(score_0)\n",
    "    print(score_1)\n",
    "    print(Y_test[idx1])\n",
    "    print(\"\\n\")"
   ]
  },
  {
   "cell_type": "code",
   "execution_count": 51,
   "metadata": {
    "collapsed": false
   },
   "outputs": [
    {
     "name": "stdout",
     "output_type": "stream",
     "text": [
      "3116.012340456924\n",
      "35633.324124154235\n",
      "0\n"
     ]
    }
   ],
   "source": [
    "print(score_0)\n",
    "print(score_1)\n",
    "print(Y_test[11])"
   ]
  },
  {
   "cell_type": "code",
   "execution_count": 6,
   "metadata": {
    "collapsed": false
   },
   "outputs": [],
   "source": [
    "# prediction\n",
    "log_prob_0 = 0.0\n",
    "log_prob_1 = 0.0\n",
    "for x in X_test[0]:\n",
    "#     if x > 0:\n",
    "    log_prob_0 += math.log((x+1) / (class_0_wtot + 1))\n",
    "    log_prob_1 += math.log((x+1) / (class_1_wtot+1))\n",
    "\n",
    "score_0 = log_prob_0 + math.log(class_0_prior)\n",
    "score_1 = log_prob_1 + math.log(class_1_prior)"
   ]
  },
  {
   "cell_type": "code",
   "execution_count": 7,
   "metadata": {
    "collapsed": false
   },
   "outputs": [
    {
     "name": "stdout",
     "output_type": "stream",
     "text": [
      "-517435.3029450076\n",
      "-467449.5939140707\n"
     ]
    }
   ],
   "source": [
    "print(score_0)\n",
    "print(score_1)"
   ]
  },
  {
   "cell_type": "code",
   "execution_count": 40,
   "metadata": {
    "collapsed": false
   },
   "outputs": [
    {
     "data": {
      "text/plain": [
       "0"
      ]
     },
     "execution_count": 40,
     "metadata": {},
     "output_type": "execute_result"
    }
   ],
   "source": [
    "Y_test[3]"
   ]
  },
  {
   "cell_type": "code",
   "execution_count": null,
   "metadata": {
    "collapsed": true
   },
   "outputs": [],
   "source": []
  }
 ],
 "metadata": {
  "anaconda-cloud": {},
  "kernelspec": {
   "display_name": "Python [conda root]",
   "language": "python",
   "name": "conda-root-py"
  },
  "language_info": {
   "codemirror_mode": {
    "name": "ipython",
    "version": 2
   },
   "file_extension": ".py",
   "mimetype": "text/x-python",
   "name": "python",
   "nbconvert_exporter": "python",
   "pygments_lexer": "ipython2",
   "version": "2.7.13"
  }
 },
 "nbformat": 4,
 "nbformat_minor": 2
}
